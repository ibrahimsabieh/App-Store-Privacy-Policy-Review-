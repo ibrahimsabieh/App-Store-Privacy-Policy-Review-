{
 "cells": [
  {
   "cell_type": "code",
   "execution_count": 138,
   "metadata": {},
   "outputs": [],
   "source": [
    "import json\n",
    "import itertools\n",
    "import re\n",
    "import os\n",
    "import pandas as pd\n",
    "import chardet\n",
    "from urllib.parse import urlparse\n",
    "import csv\n",
    "from collections import Counter"
   ]
  },
  {
   "cell_type": "code",
   "execution_count": 64,
   "metadata": {},
   "outputs": [],
   "source": [
    "with open(\"data/ios_signatures.json\", encoding=\"utf-8\") as fh:\n",
    "    signatures = json.load(fh)"
   ]
  },
  {
   "cell_type": "code",
   "execution_count": 65,
   "metadata": {},
   "outputs": [],
   "source": [
    "regexs = []\n",
    "for signature in signatures:\n",
    "    regexs.append(signature[\"regex\"])\n",
    "\n",
    "# taken from: https://github.com/Exodus-Privacy/exodus-core\n",
    "compiled_tracker_signature = [\n",
    "    re.compile(signature[\"regex\"], flags=re.MULTILINE | re.UNICODE)\n",
    "    for signature in signatures\n",
    "]"
   ]
  },
  {
   "cell_type": "code",
   "execution_count": 66,
   "metadata": {
    "scrolled": false
   },
   "outputs": [
    {
     "name": "stderr",
     "output_type": "stream",
     "text": [
      "  0%|          | 0/25 [00:00<?, ?it/s]0.00s - Debugger warning: It seems that frozen modules are being used, which may\n",
      "0.00s - make the debugger miss breakpoints. Please pass -Xfrozen_modules=off\n",
      "0.00s - to python to disable frozen modules.\n",
      "0.00s - Note: Debugging will proceed. Set PYDEVD_DISABLE_FILE_VALIDATION=1 to disable this validation.\n"
     ]
    },
    {
     "name": "stdout",
     "output_type": "stream",
     "text": [
      "Processing file: ios_log/classes/com.apalonapps.wlf-classes.txt\n"
     ]
    },
    {
     "name": "stderr",
     "output_type": "stream",
     "text": [
      "  4%|▍         | 1/25 [00:00<00:20,  1.18it/s]"
     ]
    },
    {
     "name": "stdout",
     "output_type": "stream",
     "text": [
      "{'app': 'com.apalonapps.wlf', 'trackers': [1, 3, 4, 5, 6, 7, 12, 13, 16, 31, 32, 34, 35, 48, 50, 57, 59, 61, 62, 80, 84, 85, 86]} \n",
      "\n",
      "Processing file: ios_log/classes/deluxeware.Weather-classes.txt\n"
     ]
    },
    {
     "name": "stderr",
     "output_type": "stream",
     "text": [
      "  8%|▊         | 2/25 [00:01<00:16,  1.43it/s]"
     ]
    },
    {
     "name": "stdout",
     "output_type": "stream",
     "text": [
      "{'app': 'deluxeware.Weather', 'trackers': [3, 4, 5, 6, 7, 35, 48, 50, 59, 73, 74, 84, 85, 86, 91]} \n",
      "\n",
      "Processing file: ios_log/classes/com.elevateapp.elevate-classes.txt\n"
     ]
    },
    {
     "name": "stderr",
     "output_type": "stream",
     "text": [
      " 12%|█▏        | 3/25 [00:02<00:16,  1.32it/s]"
     ]
    },
    {
     "name": "stdout",
     "output_type": "stream",
     "text": [
      "{'app': 'com.elevateapp.elevate', 'trackers': [1, 3, 4, 6, 7, 10, 32, 50, 84, 85, 86]} \n",
      "\n",
      "Processing file: ios_log/classes/com.autozone.mobileapp-classes.txt\n"
     ]
    },
    {
     "name": "stderr",
     "output_type": "stream",
     "text": [
      " 16%|█▌        | 4/25 [00:03<00:16,  1.26it/s]"
     ]
    },
    {
     "name": "stdout",
     "output_type": "stream",
     "text": [
      "{'app': 'com.autozone.mobileapp', 'trackers': [4, 27, 36, 50, 85, 86]} \n",
      "\n",
      "Processing file: ios_log/classes/com.carfax.ConsumerApp-classes.txt\n"
     ]
    },
    {
     "name": "stderr",
     "output_type": "stream",
     "text": [
      " 20%|██        | 5/25 [00:03<00:15,  1.33it/s]"
     ]
    },
    {
     "name": "stdout",
     "output_type": "stream",
     "text": [
      "{'app': 'com.carfax.ConsumerApp', 'trackers': [1, 3, 4, 6, 7, 26, 29, 50, 84, 85, 86]} \n",
      "\n",
      "Processing file: ios_log/classes/com.microblink.PhotoMath-classes.txt\n"
     ]
    },
    {
     "name": "stderr",
     "output_type": "stream",
     "text": [
      " 24%|██▍       | 6/25 [00:04<00:13,  1.43it/s]"
     ]
    },
    {
     "name": "stdout",
     "output_type": "stream",
     "text": [
      "{'app': 'com.microblink.PhotoMath', 'trackers': [3, 4, 6, 7, 9, 50, 84, 85, 86]} \n",
      "\n",
      "Processing file: ios_log/classes/us.parkmobile.ParkMobile-classes.txt\n"
     ]
    },
    {
     "name": "stderr",
     "output_type": "stream",
     "text": [
      " 28%|██▊       | 7/25 [00:05<00:12,  1.39it/s]"
     ]
    },
    {
     "name": "stdout",
     "output_type": "stream",
     "text": [
      "{'app': 'us.parkmobile.ParkMobile', 'trackers': [3, 4, 6, 7, 9, 26, 30, 50, 58, 84, 85, 86, 89]} \n",
      "\n",
      "Processing file: ios_log/classes/com.nfl.gamecenter-classes.txt\n"
     ]
    },
    {
     "name": "stderr",
     "output_type": "stream",
     "text": [
      " 32%|███▏      | 8/25 [00:06<00:13,  1.29it/s]"
     ]
    },
    {
     "name": "stdout",
     "output_type": "stream",
     "text": [
      "{'app': 'com.nfl.gamecenter', 'trackers': [3, 4, 5, 6, 7, 8, 27, 50, 70, 84, 85, 86, 93]} \n",
      "\n",
      "Processing file: ios_log/classes/com.duolingo.DuolingoMobile-classes.txt\n"
     ]
    },
    {
     "name": "stderr",
     "output_type": "stream",
     "text": [
      " 36%|███▌      | 9/25 [00:06<00:12,  1.31it/s]"
     ]
    },
    {
     "name": "stdout",
     "output_type": "stream",
     "text": [
      "{'app': 'com.duolingo.DuolingoMobile', 'trackers': [1, 3, 4, 5, 6, 7, 10, 13, 31, 37, 50, 84, 85, 86, 95]} \n",
      "\n",
      "Processing file: ios_log/classes/com.chevron.cwt-classes.txt\n"
     ]
    },
    {
     "name": "stderr",
     "output_type": "stream",
     "text": [
      " 40%|████      | 10/25 [00:07<00:11,  1.32it/s]"
     ]
    },
    {
     "name": "stdout",
     "output_type": "stream",
     "text": [
      "{'app': 'com.chevron.cwt', 'trackers': [3, 4, 6, 7, 11, 50, 51, 84, 85, 86, 93]} \n",
      "\n",
      "Processing file: ios_log/classes/com.dreamgames.royalmatch-classes.txt\n"
     ]
    },
    {
     "name": "stderr",
     "output_type": "stream",
     "text": [
      " 44%|████▍     | 11/25 [00:08<00:10,  1.32it/s]"
     ]
    },
    {
     "name": "stdout",
     "output_type": "stream",
     "text": [
      "{'app': 'com.dreamgames.royalmatch', 'trackers': [1, 3, 4, 5, 6, 7, 9, 10, 13, 36, 50, 84, 85, 86]} \n",
      "\n",
      "Processing file: ios_log/classes/com.draftkings.sportsbook-classes.txt\n"
     ]
    },
    {
     "name": "stderr",
     "output_type": "stream",
     "text": [
      " 48%|████▊     | 12/25 [00:08<00:09,  1.41it/s]"
     ]
    },
    {
     "name": "stdout",
     "output_type": "stream",
     "text": [
      "{'app': 'com.draftkings.sportsbook', 'trackers': [3, 4, 6, 9, 11, 50, 51, 84, 85, 86, 89]} \n",
      "\n",
      "Processing file: ios_log/classes/com.master.hotelmaster-classes.txt\n"
     ]
    },
    {
     "name": "stderr",
     "output_type": "stream",
     "text": [
      " 52%|█████▏    | 13/25 [00:09<00:08,  1.38it/s]"
     ]
    },
    {
     "name": "stdout",
     "output_type": "stream",
     "text": [
      "{'app': 'com.master.hotelmaster', 'trackers': [1, 3, 4, 5, 6, 7, 12, 13, 16, 17, 19, 23, 31, 35, 48, 50, 59, 61, 62, 84, 85, 86, 92, 94, 95]} \n",
      "\n",
      "Processing file: ios_log/classes/com.weather.TWC-classes.txt\n"
     ]
    },
    {
     "name": "stderr",
     "output_type": "stream",
     "text": [
      " 56%|█████▌    | 14/25 [00:10<00:08,  1.33it/s]"
     ]
    },
    {
     "name": "stdout",
     "output_type": "stream",
     "text": [
      "{'app': 'com.weather.TWC', 'trackers': [3, 4, 5, 6, 7, 34, 36, 50, 70, 84, 85, 86, 89]} \n",
      "\n",
      "Processing file: ios_log/classes/com.pointabout.cars-classes.txt\n"
     ]
    },
    {
     "name": "stderr",
     "output_type": "stream",
     "text": [
      " 60%|██████    | 15/25 [00:11<00:07,  1.37it/s]"
     ]
    },
    {
     "name": "stdout",
     "output_type": "stream",
     "text": [
      "{'app': 'com.pointabout.cars', 'trackers': [3, 4, 5, 6, 7, 36, 50, 70, 84, 85, 86]} \n",
      "\n",
      "Processing file: ios_log/classes/com.espn.ScoreCenter-classes.txt\n"
     ]
    },
    {
     "name": "stderr",
     "output_type": "stream",
     "text": [
      " 64%|██████▍   | 16/25 [00:12<00:07,  1.24it/s]"
     ]
    },
    {
     "name": "stdout",
     "output_type": "stream",
     "text": [
      "{'app': 'com.espn.ScoreCenter', 'trackers': [3, 4, 5, 29, 50, 58, 70, 84, 85, 86, 93]} \n",
      "\n",
      "Processing file: ios_log/classes/com.tohsoft.app.weather.weatherproplus-classes.txt\n"
     ]
    },
    {
     "name": "stderr",
     "output_type": "stream",
     "text": [
      " 68%|██████▊   | 17/25 [00:12<00:05,  1.36it/s]"
     ]
    },
    {
     "name": "stdout",
     "output_type": "stream",
     "text": [
      "{'app': 'com.tohsoft.app.weather.weatherproplus', 'trackers': [3, 4, 5, 6, 50, 84, 86]} \n",
      "\n",
      "Processing file: ios_log/classes/com.dpmapps.supernova-classes.txt\n"
     ]
    },
    {
     "name": "stderr",
     "output_type": "stream",
     "text": [
      " 72%|███████▏  | 18/25 [00:13<00:05,  1.33it/s]"
     ]
    },
    {
     "name": "stdout",
     "output_type": "stream",
     "text": [
      "{'app': 'com.dpmapps.supernova', 'trackers': [1, 3, 4, 5, 6, 7, 13, 16, 30, 32, 35, 36, 48, 50, 59, 60, 84, 85, 86, 91]} \n",
      "\n",
      "Processing file: ios_log/classes/com.longhorn.countmasterevo-classes.txt\n"
     ]
    },
    {
     "name": "stderr",
     "output_type": "stream",
     "text": [
      " 76%|███████▌  | 19/25 [00:14<00:04,  1.42it/s]"
     ]
    },
    {
     "name": "stdout",
     "output_type": "stream",
     "text": [
      "{'app': 'com.longhorn.countmasterevo', 'trackers': [1, 3, 4, 5, 6, 7, 12, 13, 16, 17, 19, 23, 31, 35, 48, 50, 59, 60, 61, 62, 71, 80, 84, 86, 94]} \n",
      "\n",
      "Processing file: ios_log/classes/de.knowunity.app-classes.txt\n"
     ]
    },
    {
     "name": "stderr",
     "output_type": "stream",
     "text": [
      " 80%|████████  | 20/25 [00:14<00:03,  1.45it/s]"
     ]
    },
    {
     "name": "stdout",
     "output_type": "stream",
     "text": [
      "{'app': 'de.knowunity.app', 'trackers': [3, 4, 6, 7, 9, 10, 31, 50, 84, 85, 86]} \n",
      "\n",
      "Processing file: ios_log/classes/com.adengames.weaponcraftrun-classes.txt\n"
     ]
    },
    {
     "name": "stderr",
     "output_type": "stream",
     "text": [
      " 84%|████████▍ | 21/25 [00:15<00:02,  1.49it/s]"
     ]
    },
    {
     "name": "stdout",
     "output_type": "stream",
     "text": [
      "{'app': 'com.adengames.weaponcraftrun', 'trackers': [1, 3, 4, 5, 6, 7, 12, 13, 16, 17, 19, 31, 35, 48, 50, 59, 60, 61, 62, 80, 84, 85, 86, 94]} \n",
      "\n",
      "Processing file: ios_log/classes/com.vottzapps.wordle-classes.txt\n"
     ]
    },
    {
     "name": "stderr",
     "output_type": "stream",
     "text": [
      " 88%|████████▊ | 22/25 [00:16<00:02,  1.50it/s]"
     ]
    },
    {
     "name": "stdout",
     "output_type": "stream",
     "text": [
      "{'app': 'com.vottzapps.wordle', 'trackers': [1, 3, 4, 5, 6, 7, 12, 13, 16, 17, 19, 31, 34, 35, 48, 50, 59, 60, 61, 62, 80, 84, 85, 86, 94]} \n",
      "\n",
      "Processing file: ios_log/classes/com.fanduel.sportsbook-classes.txt\n"
     ]
    },
    {
     "name": "stderr",
     "output_type": "stream",
     "text": [
      " 92%|█████████▏| 23/25 [00:16<00:01,  1.58it/s]"
     ]
    },
    {
     "name": "stdout",
     "output_type": "stream",
     "text": [
      "{'app': 'com.fanduel.sportsbook', 'trackers': [3, 4, 6, 7, 11, 27, 32, 36, 50, 51, 80, 84, 85, 86, 89]} \n",
      "\n",
      "Processing file: ios_log/classes/Com.BeeApp.MapWeather-classes.txt\n"
     ]
    },
    {
     "name": "stderr",
     "output_type": "stream",
     "text": [
      " 96%|█████████▌| 24/25 [00:17<00:00,  1.59it/s]"
     ]
    },
    {
     "name": "stdout",
     "output_type": "stream",
     "text": [
      "{'app': 'Com.BeeApp.MapWeather', 'trackers': [2, 3, 4, 5, 6, 7, 13, 38, 39, 50, 84, 85, 86, 92, 93, 94, 95, 98, 99, 107]} \n",
      "\n",
      "Processing file: ios_log/classes/com.mtmapping.onxhunt-classes.txt\n"
     ]
    },
    {
     "name": "stderr",
     "output_type": "stream",
     "text": [
      "100%|██████████| 25/25 [00:17<00:00,  1.39it/s]\n"
     ]
    },
    {
     "name": "stdout",
     "output_type": "stream",
     "text": [
      "{'app': 'com.mtmapping.onxhunt', 'trackers': [1, 3, 4, 6, 7, 26, 50, 84, 85, 86, 89, 93]} \n",
      "\n"
     ]
    },
    {
     "name": "stderr",
     "output_type": "stream",
     "text": [
      "100%|██████████| 25/25 [00:07<00:00,  3.27it/s]\n"
     ]
    }
   ],
   "source": [
    "# taken from: https://github.com/Exodus-Privacy/exodus-core\n",
    "def detect_trackers(filename):\n",
    "    with open(filename, \"r\") as f:\n",
    "        class_list = f.readlines()\n",
    "\n",
    "    args = [\n",
    "        (compiled_tracker_signature[index], tracker, class_list)\n",
    "        for (index, tracker) in enumerate(signatures)\n",
    "    ]\n",
    "\n",
    "    results = []\n",
    "\n",
    "    def _detect_tracker(sig, tracker, class_list):\n",
    "        for clazz in class_list:\n",
    "            if sig.search(clazz):\n",
    "                return tracker\n",
    "        return None\n",
    "\n",
    "    for res in itertools.starmap(_detect_tracker, args):\n",
    "        if res:\n",
    "            results.append(res)\n",
    "\n",
    "    trackers = [t[\"id\"] for t in results if t is not None]\n",
    "\n",
    "    return trackers\n",
    "\n",
    "\n",
    "folder = \"ios_log/classes/\"\n",
    "files = [\n",
    "    fi for fi in os.listdir(folder) if not fi.startswith(\".\")\n",
    "]  # ignores hidden files in dir\n",
    "\n",
    "from multiprocess import Pool\n",
    "import tqdm\n",
    "\n",
    "from pathlib import Path\n",
    "\n",
    "\n",
    "def detect(filename):\n",
    "    if not filename.startswith(\".\"):\n",
    "        results = {}\n",
    "        results[\"app\"] = Path(filename).stem[0:-8]\n",
    "        results[\"trackers\"] = detect_trackers(folder + filename)\n",
    "        return results\n",
    "\n",
    "\n",
    "pool = Pool(processes=4)\n",
    "trackers = {}\n",
    "\n",
    "for filename in tqdm.tqdm(files, total=len(files)):\n",
    "    file_path = os.path.join(folder, filename)\n",
    "    print(f\"Processing file: {file_path}\")\n",
    "    result = detect(filename)\n",
    "    print(result, \"\\n\")\n",
    "    trackers[result[\"app\"]] = result[\"trackers\"]\n",
    "\n",
    "for result in tqdm.tqdm(pool.imap_unordered(detect, files), total=len(files)):\n",
    "    trackers[result[\"app\"]] = result[\"trackers\"]\n",
    "\n",
    "with open(\"data_processed/ios_trackers.json\", \"w\", encoding=\"utf-8\") as f:\n",
    "    json.dump(trackers, f)"
   ]
  },
  {
   "cell_type": "code",
   "execution_count": 67,
   "metadata": {},
   "outputs": [],
   "source": [
    "# This block creates a JSON file out of the third party tracker domains from TRACKER-RADAR\n",
    "#\n",
    "# Ignore this block if you already have a JSON file with third party domains\n",
    "\n",
    "def list_files_in_directory(directory_path):\n",
    "    # List to store file names without extensions\n",
    "    file_names_without_extension = []\n",
    "\n",
    "    # List all files in the directory\n",
    "    for file_name in os.listdir(directory_path):\n",
    "        if os.path.isfile(os.path.join(directory_path, file_name)):\n",
    "            # Remove file extension and add to the list\n",
    "            name_without_extension = os.path.splitext(file_name)[0]\n",
    "            file_names_without_extension.append(name_without_extension)\n",
    "\n",
    "    return file_names_without_extension\n",
    "\n",
    "\n",
    "def write_list_to_json(data, json_file_path):\n",
    "    with open(json_file_path, \"w\") as json_file:\n",
    "        json.dump(data, json_file, indent=4)\n",
    "\n",
    "\n",
    "# Directory path for tracking domains\n",
    "directory_path = \"./tracker-radar-main/domains/US/\"\n",
    "\n",
    "# JSON file path\n",
    "json_file_path = \"./data/Third-Party-Trackers.json\"\n",
    "\n",
    "# Get file names without extensions\n",
    "file_names = list_files_in_directory(directory_path)\n",
    "\n",
    "# Write to JSON file\n",
    "write_list_to_json(file_names, json_file_path)"
   ]
  },
  {
   "cell_type": "code",
   "execution_count": 116,
   "metadata": {},
   "outputs": [],
   "source": [
    "# This block creates a CSV file containing app names and the corresponding Third-Party Trackers\n",
    "# they contacted and the number of times they contacted them\n",
    "\n",
    "def read_domains_from_json(json_file_path):\n",
    "    with open(json_file_path, \"r\") as file:\n",
    "        return set(json.load(file))\n",
    "\n",
    "\n",
    "def process_all_har_files(har_directory, json_file_path, output_csv_path):\n",
    "    tracker_domains = read_domains_from_json(json_file_path)\n",
    "    all_files_results = {}\n",
    "\n",
    "    for filename in os.listdir(har_directory):\n",
    "        if filename.endswith(\".har\"):\n",
    "            har_file_path = os.path.join(har_directory, filename)\n",
    "            domain_counts = Counter()\n",
    "\n",
    "            with open(har_file_path, \"r\") as file:\n",
    "                har_data = json.load(file)\n",
    "\n",
    "            for entry in har_data[\"log\"][\"entries\"]:\n",
    "                full_url = entry[\"request\"][\"url\"]\n",
    "                parsed_url = urlparse(full_url)\n",
    "                domain = parsed_url.netloc.split(\".\")[-2:]  # Get the SLD and TLD\n",
    "                domain_counts[\".\".join(domain)] += 1\n",
    "\n",
    "            # Filter domains against the tracker list and store the results\n",
    "            filtered_counts = {\n",
    "                domain: count\n",
    "                for domain, count in domain_counts.items()\n",
    "                if domain in tracker_domains\n",
    "            }\n",
    "            all_files_results[filename.replace(\".har\", \"\")] = filtered_counts\n",
    "\n",
    "    # Write to CSV\n",
    "    with open(output_csv_path, \"w\", newline=\"\") as csvfile:\n",
    "        csvwriter = csv.writer(csvfile)\n",
    "        csvwriter.writerow([\"App Name\", \"Domain Counts\"])\n",
    "\n",
    "        for file_name, domains in all_files_results.items():\n",
    "            domain_list = [f\"{domain} ({count})\" for domain, count in domains.items()]\n",
    "            csvwriter.writerow([file_name, \", \".join(domain_list)])\n",
    "\n",
    "\n",
    "# Define paths\n",
    "har_directory = \"./ios_log/har/\"\n",
    "json_file_path = \"./data/Third-Party-Trackers.json\"\n",
    "output_csv_path = \"./data/TrackersWithCount.csv\"\n",
    "\n",
    "# Process all .har files and write to CSV\n",
    "process_all_har_files(har_directory, json_file_path, output_csv_path)"
   ]
  },
  {
   "cell_type": "code",
   "execution_count": 171,
   "metadata": {},
   "outputs": [
    {
     "data": {
      "text/plain": [
       "{\"['AllowsLocalNetworking', 'BluetoothAlwaysUsage', 'BluetoothPeripheralUsage', 'CalendarsUsage', 'CameraUsage', 'FaceIDUsage', 'LocationAlwaysAndWhenInUseUsage', 'LocationAlwaysUsage', 'LocationWhenInUseUsage', 'MicrophoneUsage', 'MotionUsage', 'PhotoLibraryUsage', 'UserTrackingUsage']\",\n",
       " \"['AppleMusicUsage', 'BluetoothAlwaysUsage', 'BluetoothPeripheralUsage', 'CalendarsUsage', 'CameraUsage', 'ContactsUsage', 'FaceIDUsage', 'LocationAlwaysAndWhenInUseUsage', 'LocationAlwaysUsage', 'LocationUsage', 'LocationWhenInUseUsage', 'MicrophoneUsage', 'PhotoLibraryUsage', 'SiriUsage', 'UserTrackingUsage']\",\n",
       " \"['AppleMusicUsage', 'BluetoothAlwaysUsage', 'BluetoothPeripheralUsage', 'CameraUsage', 'ContactsUsage', 'FaceIDUsage', 'LocationAlwaysAndWhenInUseUsage', 'LocationAlwaysUsage', 'LocationWhenInUseUsage', 'PhotoLibraryUsage', 'UserTrackingUsage']\",\n",
       " \"['BluetoothAlwaysUsage', 'BluetoothPeripheralUsage', 'CalendarsUsage', 'CameraUsage', 'ContactsUsage', 'LocalNetworkUsage', 'LocationAlwaysAndWhenInUseUsage', 'LocationWhenInUseUsage', 'MicrophoneUsage', 'PhotoLibraryAddUsage', 'PhotoLibraryUsage', 'RemindersUsage', 'UserTrackingUsage', 'VideoSubscriberAccountUsage']\",\n",
       " \"['BluetoothAlwaysUsage', 'BluetoothPeripheralUsage', 'CalendarsUsage', 'FaceIDUsage', 'LocalNetworkUsage', 'LocationWhenInUseUsage', 'MicrophoneUsage', 'PhotoLibraryAddUsage', 'PhotoLibraryUsage', 'UserTrackingUsage', 'VideoSubscriberAccountUsage']\",\n",
       " \"['BluetoothAlwaysUsage', 'BluetoothPeripheralUsage', 'CalendarsUsage', 'LocationAlwaysAndWhenInUseUsage', 'LocationAlwaysUsage', 'LocationWhenInUseUsage', 'MotionUsage', 'PhotoLibraryAddUsage', 'PhotoLibraryUsage', 'UserTrackingUsage']\",\n",
       " \"['BluetoothAlwaysUsage', 'BluetoothPeripheralUsage', 'LocationAlwaysAndWhenInUseUsage', 'LocationAlwaysUsage', 'LocationWhenInUseUsage', 'UserTrackingUsage']\",\n",
       " \"['BluetoothPeripheralUsage', 'LocationAlwaysUsage', 'LocationWhenInUseUsage', 'PhotoLibraryAddUsage', 'PhotoLibraryUsage', 'UserTrackingUsage']\",\n",
       " \"['CalendarsUsage', 'CameraUsage', 'ContactsUsage', 'FaceIDUsage', 'LocationAlwaysAndWhenInUseUsage', 'LocationAlwaysUsage', 'LocationWhenInUseUsage', 'MicrophoneUsage', 'PhotoLibraryUsage']\",\n",
       " \"['CalendarsUsage', 'CameraUsage', 'ContactsUsage', 'LocationWhenInUseUsage', 'MicrophoneUsage', 'PhotoLibraryUsage', 'SpeechRecognitionUsage']\",\n",
       " \"['CalendarsUsage', 'CameraUsage', 'LocationAlwaysAndWhenInUseUsage', 'LocationAlwaysUsage', 'LocationWhenInUseUsage', 'MotionUsage', 'PhotoLibraryUsage', 'UserTrackingUsage']\",\n",
       " \"['CalendarsUsage', 'LocationWhenInUseUsage', 'UserTrackingUsage']\",\n",
       " \"['CameraUsage', 'ContactsUsage', 'LocationWhenInUseUsage', 'MicrophoneUsage', 'PhotoLibraryAddUsage', 'PhotoLibraryUsage', 'SpeechRecognitionUsage', 'UserTrackingUsage']\",\n",
       " \"['CameraUsage', 'LocationAlwaysAndWhenInUseUsage', 'LocationAlwaysUsage', 'LocationWhenInUseUsage', 'PhotoLibraryUsage']\",\n",
       " \"['CameraUsage', 'LocationWhenInUseUsage', 'MicrophoneUsage', 'PhotoLibraryUsage', 'UserTrackingUsage']\",\n",
       " \"['CameraUsage', 'PhotoLibraryUsage']\",\n",
       " \"['InWebContent', 'AllowsLocalNetworking', 'BluetoothAlwaysUsage', 'BluetoothPeripheralUsage', 'CalendarsUsage', 'CameraUsage', 'FaceIDUsage', 'LocationAlwaysAndWhenInUseUsage', 'LocationAlwaysUsage', 'LocationWhenInUseUsage', 'MicrophoneUsage', 'MotionUsage', 'PhotoLibraryUsage', 'UserTrackingUsage']\",\n",
       " \"['InWebContent', 'BluetoothPeripheralUsage', 'CalendarsUsage', 'FaceIDUsage', 'LocationAlwaysAndWhenInUseUsage', 'LocationAlwaysUsage', 'LocationUsage', 'LocationWhenInUseUsage', 'MotionUsage', 'PhotoLibraryAddUsage', 'PhotoLibraryUsage', 'UserTrackingUsage', 'WidgetWantsLocation']\",\n",
       " \"['InWebContent', 'CalendarsUsage', 'LocationWhenInUseUsage', 'PhotoLibraryAddUsage', 'PhotoLibraryUsage', 'UserTrackingUsage']\",\n",
       " \"['InWebContent', 'CalendarsUsage', 'LocationWhenInUseUsage', 'UserTrackingUsage']\",\n",
       " \"['InWebContent', 'LocationAlwaysUsage', 'LocationWhenInUseUsage', 'PhotoLibraryUsage', 'UserTrackingUsage']\",\n",
       " \"['LocationAlwaysAndWhenInUseUsage', 'LocationAlwaysUsage', 'LocationWhenInUseUsage', 'UserTrackingUsage']\",\n",
       " \"['LocationAlwaysAndWhenInUseUsage', 'LocationWhenInUseUsage', 'PhotoLibraryUsage', 'UserTrackingUsage']\",\n",
       " \"['LocationWhenInUseUsage', 'LocationAlwaysAndWhenInUseUsage', 'LocationAlwaysUsage' ]\"}"
      ]
     },
     "execution_count": 171,
     "metadata": {},
     "output_type": "execute_result"
    }
   ],
   "source": [
    "df = pd.read_csv('data/appsIos.csv')\n",
    "\n",
    "set(df[\"permissions\"])"
   ]
  }
 ],
 "metadata": {
  "kernelspec": {
   "display_name": "Python 3 (ipykernel)",
   "language": "python",
   "name": "python3"
  },
  "language_info": {
   "codemirror_mode": {
    "name": "ipython",
    "version": 3
   },
   "file_extension": ".py",
   "mimetype": "text/x-python",
   "name": "python",
   "nbconvert_exporter": "python",
   "pygments_lexer": "ipython3",
   "version": "3.10.13"
  }
 },
 "nbformat": 4,
 "nbformat_minor": 4
}
